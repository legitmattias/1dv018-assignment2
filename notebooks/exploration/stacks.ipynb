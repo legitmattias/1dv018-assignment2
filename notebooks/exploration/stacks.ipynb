{
 "cells": [
  {
   "cell_type": "code",
   "execution_count": null,
   "id": "cefd065f",
   "metadata": {},
   "outputs": [],
   "source": [
    "import sys\n",
    "\n",
    "print(\"Python:\", sys.version)\n",
    "print(\"Executable:\", sys.executable)"
   ]
  },
  {
   "cell_type": "code",
   "execution_count": null,
   "id": "fd454f8a",
   "metadata": {},
   "outputs": [],
   "source": [
    "from learning.stack.llstack import LLStack"
   ]
  },
  {
   "cell_type": "code",
   "execution_count": null,
   "id": "99fceab4",
   "metadata": {},
   "outputs": [],
   "source": [
    "s = LLStack[int]()\n",
    "print(\"Empty?\", s.empty())\n",
    "print(\"Top:\", s.top())"
   ]
  },
  {
   "cell_type": "code",
   "execution_count": null,
   "id": "889be637",
   "metadata": {},
   "outputs": [],
   "source": [
    "s.push(10)\n",
    "print(\"Top after pushing 10:\", s.top())\n",
    "\n",
    "s.push(20)\n",
    "print(\"Top after pushing 20:\", s.top())\n",
    "\n",
    "s.push(30)\n",
    "print(\"Top after pushing 30:\", s.top())"
   ]
  },
  {
   "cell_type": "code",
   "execution_count": null,
   "id": "cccf4fd8",
   "metadata": {},
   "outputs": [],
   "source": [
    "s.pop()\n",
    "print(\"Top after popping:\", s.top())\n",
    "\n",
    "s.pop()\n",
    "print(\"Top after popping again:\", s.top())\n",
    "\n",
    "s.pop()\n",
    "print(\"Empty after popping all?\", s.empty())"
   ]
  },
  {
   "cell_type": "code",
   "execution_count": null,
   "id": "bb496857",
   "metadata": {},
   "outputs": [],
   "source": [
    "s = LLStack[int]()\n",
    "for v in [1, 2, 3]:\n",
    "    s.push(v)\n",
    "\n",
    "node = s._head  # start at top node\n",
    "while node is not None:\n",
    "    print(\"Node:\", node.val)\n",
    "    node = node.nxt"
   ]
  }
 ],
 "metadata": {
  "kernelspec": {
   "display_name": "Python (assignment2)",
   "language": "python",
   "name": "assignment2"
  },
  "language_info": {
   "codemirror_mode": {
    "name": "ipython",
    "version": 3
   },
   "file_extension": ".py",
   "mimetype": "text/x-python",
   "name": "python",
   "nbconvert_exporter": "python",
   "pygments_lexer": "ipython3",
   "version": "3.12.11"
  }
 },
 "nbformat": 4,
 "nbformat_minor": 5
}
