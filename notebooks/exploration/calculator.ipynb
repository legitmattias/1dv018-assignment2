{
 "cells": [
  {
   "cell_type": "code",
   "execution_count": null,
   "id": "c7f57b21",
   "metadata": {},
   "outputs": [],
   "source": [
    "from learning.calc.op import Op, doop\n",
    "\n",
    "print(doop(Op.ADD, 1, 2))  # 3\n",
    "print(doop(Op.MUL, 4, 6))  # 24"
   ]
  },
  {
   "cell_type": "code",
   "execution_count": null,
   "id": "0a38ca8c",
   "metadata": {},
   "outputs": [],
   "source": [
    "from learning.calc.loop import calc\n",
    "from learning.calc.op import Op\n",
    "from learning.stack.llstack import LLStack\n",
    "\n",
    "ops = LLStack[Op]()\n",
    "digs = LLStack[int]()\n",
    "\n",
    "ops.push(Op.SUB)\n",
    "digs.push(7)\n",
    "ops.push(Op.ADD)\n",
    "digs.push(1)\n",
    "ops.push(Op.MUL)\n",
    "digs.push(6)\n",
    "digs.push(4)\n",
    "\n",
    "print(calc(ops, digs))  # 18"
   ]
  }
 ],
 "metadata": {
  "kernelspec": {
   "display_name": "Python (assignment2)",
   "language": "python",
   "name": "assignment2"
  },
  "language_info": {
   "codemirror_mode": {
    "name": "ipython",
    "version": 3
   },
   "file_extension": ".py",
   "mimetype": "text/x-python",
   "name": "python",
   "nbconvert_exporter": "python",
   "pygments_lexer": "ipython3",
   "version": "3.12.11"
  }
 },
 "nbformat": 4,
 "nbformat_minor": 5
}
