{
 "cells": [
  {
   "cell_type": "code",
   "execution_count": null,
   "id": "ce8d78e2",
   "metadata": {},
   "outputs": [],
   "source": [
    "myHash = hash(\"Olivia\")\n",
    "print(myHash)"
   ]
  }
 ],
 "metadata": {
  "kernelspec": {
   "display_name": "Python (assignment2)",
   "language": "python",
   "name": "assignment2"
  },
  "language_info": {
   "codemirror_mode": {
    "name": "ipython",
    "version": 3
   },
   "file_extension": ".py",
   "mimetype": "text/x-python",
   "name": "python",
   "nbconvert_exporter": "python",
   "pygments_lexer": "ipython3",
   "version": "3.12.11"
  }
 },
 "nbformat": 4,
 "nbformat_minor": 5
}
