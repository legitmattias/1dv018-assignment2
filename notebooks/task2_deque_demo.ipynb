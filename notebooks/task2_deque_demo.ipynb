{
 "cells": [
  {
   "cell_type": "markdown",
   "metadata": {},
   "source": [
    "# Task 2: Deque"
   ]
  },
  {
   "cell_type": "code",
   "execution_count": null,
   "metadata": {},
   "outputs": [],
   "source": [
    "import sys\n",
    "\n",
    "sys.path.append('..')\n",
    "\n",
    "from ads import Deque"
   ]
  },
  {
   "cell_type": "markdown",
   "metadata": {},
   "source": [
    "## Basic Operations"
   ]
  },
  {
   "cell_type": "code",
   "execution_count": null,
   "metadata": {},
   "outputs": [],
   "source": [
    "# Create deque and check if empty\n",
    "dq = Deque[int]()\n",
    "print(\"Empty:\", dq.isEmpty())\n",
    "print(\"Size:\", dq.size())\n",
    "\n",
    "# Add elements at both ends\n",
    "dq.addLast(10)\n",
    "dq.addLast(20)\n",
    "dq.addFirst(5)\n",
    "dq.addFirst(1)\n",
    "print(\"\\nAfter adding 1, 5 (first) and 10, 20 (last):\")\n",
    "print(\"Elements:\", list(dq))\n",
    "print(\"Size:\", dq.size())\n",
    "\n",
    "# Remove from both ends\n",
    "first = dq.removeFirst()\n",
    "last = dq.removeLast()\n",
    "print(\"\\nRemoved first:\", first)\n",
    "print(\"Removed last:\", last)\n",
    "print(\"Remaining:\", list(dq))"
   ]
  },
  {
   "cell_type": "markdown",
   "metadata": {},
   "source": [
    "## Using Deque as Stack"
   ]
  },
  {
   "cell_type": "code",
   "execution_count": null,
   "metadata": {},
   "outputs": [],
   "source": [
    "# Stack: LIFO using addFirst/removeFirst\n",
    "stack = Deque[str]()\n",
    "stack.addFirst(\"first\")\n",
    "stack.addFirst(\"second\")\n",
    "stack.addFirst(\"third\")\n",
    "\n",
    "print(\"Stack:\", list(stack))\n",
    "print(\"Pop:\", stack.removeFirst())\n",
    "print(\"Pop:\", stack.removeFirst())\n",
    "print(\"Remaining:\", list(stack))"
   ]
  },
  {
   "cell_type": "markdown",
   "metadata": {},
   "source": [
    "## Using Deque as Queue"
   ]
  },
  {
   "cell_type": "code",
   "execution_count": null,
   "metadata": {},
   "outputs": [],
   "source": [
    "# Queue: FIFO using addLast/removeFirst\n",
    "queue = Deque[str]()\n",
    "queue.addLast(\"first\")\n",
    "queue.addLast(\"second\")\n",
    "queue.addLast(\"third\")\n",
    "\n",
    "print(\"Queue:\", list(queue))\n",
    "print(\"Dequeue:\", queue.removeFirst())\n",
    "print(\"Dequeue:\", queue.removeFirst())\n",
    "print(\"Remaining:\", list(queue))"
   ]
  },
  {
   "cell_type": "markdown",
   "metadata": {},
   "source": [
    "## Error Handling"
   ]
  },
  {
   "cell_type": "code",
   "execution_count": null,
   "metadata": {},
   "outputs": [],
   "source": [
    "# Try to remove from empty deque\n",
    "empty_dq = Deque[int]()\n",
    "\n",
    "try:\n",
    "    empty_dq.removeFirst()\n",
    "except IndexError as e:\n",
    "    print(\"Error (removeFirst):\", e)\n",
    "\n",
    "try:\n",
    "    empty_dq.removeLast()\n",
    "except IndexError as e:\n",
    "    print(\"Error (removeLast):\", e)"
   ]
  }
 ],
 "metadata": {
  "kernelspec": {
   "display_name": "Python (assignment2)",
   "language": "python",
   "name": "assignment2"
  },
  "language_info": {
   "codemirror_mode": {
    "name": "ipython",
    "version": 3
   },
   "file_extension": ".py",
   "mimetype": "text/x-python",
   "name": "python",
   "nbconvert_exporter": "python",
   "pygments_lexer": "ipython3",
   "version": "3.12.11"
  }
 },
 "nbformat": 4,
 "nbformat_minor": 4
}
