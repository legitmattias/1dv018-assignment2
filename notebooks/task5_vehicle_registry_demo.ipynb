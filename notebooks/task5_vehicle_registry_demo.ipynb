{
 "cells": [
  {
   "cell_type": "markdown",
   "metadata": {},
   "source": [
    "# Task 5: Vehicle Registry with Hash Function Analysis"
   ]
  },
  {
   "cell_type": "code",
   "execution_count": null,
   "metadata": {},
   "outputs": [],
   "source": [
    "import random\n",
    "import string\n",
    "import sys\n",
    "\n",
    "sys.path.append(\"..\")\n",
    "\n",
    "from ads import HashTableSC, Vehicle"
   ]
  },
  {
   "cell_type": "markdown",
   "metadata": {},
   "source": [
    "## 1. Basic Vehicle Registry Usage\n",
    "\n",
    "Swedish registration format: 3 letters + 2 digits + 1 letter (e.g., \"ABC12D\")\n",
    "\n",
    "Note: The hash function works with any registration format since it processes all characters."
   ]
  },
  {
   "cell_type": "code",
   "execution_count": null,
   "metadata": {},
   "outputs": [],
   "source": [
    "# Create hashtable for vehicle registry\n",
    "registry = HashTableSC[str, Vehicle](m=31)\n",
    "\n",
    "# Create some vehicles with Swedish registration numbers\n",
    "vehicles = [\n",
    "    Vehicle(\"ABC12D\", \"Volvo\", \"XC90\", 2020),\n",
    "    Vehicle(\"XYZ78E\", \"Saab\", \"9-5\", 2018),\n",
    "    Vehicle(\"MLB84A\", \"Tesla\", \"Model 3\", 2022),\n",
    "    Vehicle(\"GHJ45F\", \"BMW\", \"X5\", 2019),\n",
    "    Vehicle(\"QWE32G\", \"Audi\", \"A4\", 2021),\n",
    "    Vehicle(\"JGB132\", \"Hyundai\", \"i40\", 2014),  # Old format also works\n",
    "]\n",
    "\n",
    "# Register vehicles (using registration as key)\n",
    "for v in vehicles:\n",
    "    registry.put(v.registration, v)\n",
    "\n",
    "print(f\"Registered {len(registry)} vehicles\")\n",
    "print(\"\\nRegistry operations:\")\n",
    "print(f\"  Contains 'MLB84A': {registry.contains('MLB84A')}\")\n",
    "print(f\"  Contains 'ZZZ99Z': {registry.contains('ZZZ99Z')}\")"
   ]
  },
  {
   "cell_type": "code",
   "execution_count": null,
   "metadata": {},
   "outputs": [],
   "source": [
    "# Lookup vehicle by registration\n",
    "vehicle = registry.get(\"JGB132\")\n",
    "if vehicle:\n",
    "    print(f\"Found vehicle: {vehicle.brand} {vehicle.model} ({vehicle.year})\")\n",
    "    print(f\"Registration: {vehicle.registration}\")"
   ]
  },
  {
   "cell_type": "code",
   "execution_count": null,
   "metadata": {},
   "outputs": [],
   "source": [
    "# List all registered vehicles\n",
    "print(\"All registered vehicles:\")\n",
    "for reg in sorted(registry.keys()):\n",
    "    v = registry.get(reg)\n",
    "    print(f\"  {reg}: {v.brand} {v.model} ({v.year})\")"
   ]
  },
  {
   "cell_type": "code",
   "execution_count": null,
   "metadata": {},
   "outputs": [],
   "source": [
    "# Remove a vehicle\n",
    "removed = registry.remove(\"XYZ789\")\n",
    "print(f\"Removed XYZ789: {removed}\")\n",
    "print(f\"Registry now has {len(registry)} vehicles\")\n",
    "print(f\"Contains 'XYZ789': {registry.contains('XYZ789')}\")"
   ]
  },
  {
   "cell_type": "markdown",
   "metadata": {},
   "source": [
    "## 2. Hash Function Analysis\n",
    "\n",
    "Generate many Swedish registration numbers and analyze the hash function quality."
   ]
  },
  {
   "cell_type": "code",
   "execution_count": null,
   "metadata": {},
   "outputs": [],
   "source": [
    "def generate_swedish_registration() -> str:\n",
    "    \"\"\"Generate a random Swedish registration number.\n",
    "\n",
    "    Format: 3 letters + 2 digits + 1 letter\n",
    "    Example: ABC12D\n",
    "    \"\"\"\n",
    "    letters1 = \"\".join(random.choices(string.ascii_uppercase, k=3))\n",
    "    digits = \"\".join(random.choices(string.digits, k=2))\n",
    "    letter2 = random.choice(string.ascii_uppercase)\n",
    "    return f\"{letters1}{digits}{letter2}\"\n",
    "\n",
    "\n",
    "# Test generation\n",
    "print(\"Sample Swedish registrations:\")\n",
    "for _ in range(10):\n",
    "    print(f\"  {generate_swedish_registration()}\")"
   ]
  },
  {
   "cell_type": "code",
   "execution_count": null,
   "metadata": {},
   "outputs": [],
   "source": [
    "# Generate large dataset of vehicles\n",
    "random.seed(42)  # For reproducibility\n",
    "\n",
    "brands = [\"Volvo\", \"Saab\", \"BMW\", \"Audi\", \"Mercedes\", \"Tesla\", \"Toyota\", \"Volkswagen\"]\n",
    "models = [\"Sedan\", \"SUV\", \"Coupe\", \"Wagon\", \"Hatchback\"]\n",
    "\n",
    "n_vehicles = 500\n",
    "table_size = 101  # Larger prime for better distribution visualization\n",
    "\n",
    "# Create hashtable and vehicles\n",
    "test_registry = HashTableSC[str, Vehicle](m=table_size)\n",
    "registrations = set()\n",
    "\n",
    "# Generate unique registrations\n",
    "while len(registrations) < n_vehicles:\n",
    "    registrations.add(generate_swedish_registration())\n",
    "\n",
    "# Create and register vehicles\n",
    "for reg in registrations:\n",
    "    vehicle = Vehicle(\n",
    "        registration=reg,\n",
    "        brand=random.choice(brands),\n",
    "        model=random.choice(models),\n",
    "        year=random.randint(2015, 2024),\n",
    "    )\n",
    "    test_registry.put(reg, vehicle)\n",
    "\n",
    "print(f\"Created registry with {len(test_registry)} vehicles\")\n",
    "print(f\"Table size: {test_registry.sz}\")\n",
    "print(f\"Load factor (n/m): {len(test_registry) / test_registry.sz:.2f}\")"
   ]
  },
  {
   "cell_type": "markdown",
   "metadata": {},
   "source": [
    "### Analyze Hash Function Quality"
   ]
  },
  {
   "cell_type": "code",
   "execution_count": null,
   "metadata": {},
   "outputs": [],
   "source": [
    "# Calculate chain lengths for each bucket\n",
    "chain_lengths = [test_registry._len_chain(bucket) for bucket in test_registry.table]\n",
    "\n",
    "# Statistics\n",
    "total_items = len(test_registry)\n",
    "table_size = test_registry.sz\n",
    "empty_buckets = chain_lengths.count(0)\n",
    "non_empty_buckets = table_size - empty_buckets\n",
    "collisions = sum(1 for length in chain_lengths if length > 1)\n",
    "max_chain = max(chain_lengths)\n",
    "avg_chain = sum(chain_lengths) / len(chain_lengths)\n",
    "expected_chain = total_items / table_size\n",
    "\n",
    "# Quality thresholds\n",
    "DISTRIBUTION_TOLERANCE = 0.5  # Acceptable difference for good distribution\n",
    "MAX_CHAIN_MULTIPLIER = 2  # Maximum acceptable chain length relative to expected\n",
    "\n",
    "print(\"=\" * 50)\n",
    "print(\"Hash Function Quality Analysis\")\n",
    "print(\"=\" * 50)\n",
    "print(\"\\nDataset:\")\n",
    "print(f\"  Total vehicles: {total_items}\")\n",
    "print(f\"  Table size (m): {table_size}\")\n",
    "print(f\"  Load factor (α = n/m): {total_items / table_size:.2f}\")\n",
    "print(\"\\nBucket Distribution:\")\n",
    "print(f\"  Empty buckets: {empty_buckets} ({empty_buckets / table_size * 100:.1f}%)\")\n",
    "print(\n",
    "    f\"  Non-empty buckets: \\\n",
    "        {non_empty_buckets} ({non_empty_buckets / table_size * 100:.1f}%)\"\n",
    ")\n",
    "print(f\"  Buckets with collisions: {collisions} ({collisions / table_size * 100:.1f}%)\")\n",
    "print(\"\\nChain Length Statistics:\")\n",
    "print(f\"  Minimum: {min(chain_lengths)}\")\n",
    "print(f\"  Maximum: {max_chain}\")\n",
    "print(f\"  Average: {avg_chain:.2f}\")\n",
    "print(f\"  Expected (n/m): {expected_chain:.2f}\")\n",
    "print(\"\\nDeviation from expected:\")\n",
    "print(f\"  |avg - expected| = {abs(avg_chain - expected_chain):.2f}\")\n",
    "print(f\"  Tolerance threshold = {DISTRIBUTION_TOLERANCE}\")\n",
    "print(f\"  Max chain / expected = {max_chain / expected_chain:.2f}\")\n",
    "print(f\"  Max chain multiplier threshold = {MAX_CHAIN_MULTIPLIER}\")"
   ]
  },
  {
   "cell_type": "markdown",
   "metadata": {},
   "source": [
    "### Visualize Bucket Distribution"
   ]
  },
  {
   "cell_type": "code",
   "execution_count": null,
   "metadata": {},
   "outputs": [],
   "source": [
    "import matplotlib.pyplot as plt\n",
    "\n",
    "# Threshold for highlighting over-loaded buckets\n",
    "OVERLOAD_MULTIPLIER = 1.5  # Highlight buckets above this threshold\n",
    "\n",
    "# Bar chart of chain lengths\n",
    "fig, (ax1, ax2) = plt.subplots(1, 2, figsize=(14, 5))\n",
    "\n",
    "# Left plot: Chain length per bucket\n",
    "buckets = range(len(chain_lengths))\n",
    "colors = [\n",
    "    \"red\"\n",
    "    if length == 0\n",
    "    else \"orange\"\n",
    "    if length > expected_chain * OVERLOAD_MULTIPLIER\n",
    "    else \"skyblue\"\n",
    "    for length in chain_lengths\n",
    "]\n",
    "\n",
    "ax1.bar(buckets, chain_lengths, color=colors, edgecolor=\"black\", linewidth=0.5)\n",
    "ax1.axhline(\n",
    "    y=expected_chain,\n",
    "    color=\"green\",\n",
    "    linestyle=\"--\",\n",
    "    linewidth=2,\n",
    "    label=f\"Expected (n/m = {expected_chain:.2f})\",\n",
    ")\n",
    "ax1.set_xlabel(\"Bucket Index\")\n",
    "ax1.set_ylabel(\"Chain Length\")\n",
    "ax1.set_title(f\"Chain Length Distribution\\n(n={total_items}, m={table_size})\")\n",
    "ax1.legend()\n",
    "ax1.grid(axis=\"y\", alpha=0.3)\n",
    "\n",
    "# Right plot: Histogram of chain lengths\n",
    "unique_lengths = sorted(set(chain_lengths))\n",
    "length_counts = [chain_lengths.count(length) for length in unique_lengths]\n",
    "\n",
    "ax2.bar(unique_lengths, length_counts, color=\"teal\", edgecolor=\"black\", width=0.8)\n",
    "ax2.set_xlabel(\"Chain Length\")\n",
    "ax2.set_ylabel(\"Number of Buckets\")\n",
    "ax2.set_title(\"Frequency of Chain Lengths\")\n",
    "ax2.grid(axis=\"y\", alpha=0.3)\n",
    "\n",
    "# Add value labels on bars\n",
    "for length, count in zip(unique_lengths, length_counts, strict=False):\n",
    "    ax2.text(length, count, str(count), ha=\"center\", va=\"bottom\")\n",
    "\n",
    "plt.tight_layout()\n",
    "plt.show()"
   ]
  },
  {
   "cell_type": "markdown",
   "metadata": {},
   "source": [
    "## 3. Hash Function Implementation\n",
    "\n",
    "The Vehicle class uses a custom `__hash__()` method:\n",
    "\n",
    "```python\n",
    "def __hash__(self) -> int:\n",
    "    hv = 17\n",
    "    for char in self.registration:\n",
    "        hv = 31 * hv + ord(char)\n",
    "    return hv\n",
    "```\n",
    "\n",
    "This is a polynomial rolling hash that:\n",
    "- Starts with prime number 17\n",
    "- Multiplies by prime 31 for each character\n",
    "- Adds each character's ordinal value\n",
    "- Makes position matter (order-sensitive)"
   ]
  },
  {
   "cell_type": "markdown",
   "metadata": {},
   "source": [
    "## 4. Hash Function Comparison\n",
    "\n",
    "Compare polynomial rolling hash with simple addition hash:"
   ]
  },
  {
   "cell_type": "code",
   "execution_count": null,
   "metadata": {},
   "outputs": [],
   "source": [
    "def simple_hash(reg: str) -> int:\n",
    "    \"\"\"Naive hash: just sum character values.\"\"\"\n",
    "    return sum(ord(c) for c in reg)\n",
    "\n",
    "\n",
    "def good_hash(reg: str) -> int:\n",
    "    \"\"\"Polynomial rolling hash with primes.\"\"\"\n",
    "    hv = 17\n",
    "    for char in reg:\n",
    "        hv = 31 * hv + ord(char)\n",
    "    return hv\n",
    "\n",
    "\n",
    "# Test with sample registrations (including anagrams)\n",
    "test_regs = [\"ABC12D\", \"ABC21D\", \"BAC12D\", \"CBA21D\", \"JGB132\"]\n",
    "\n",
    "print(\"Hash function comparison:\\n\")\n",
    "print(\n",
    "    f\"{'Registration':<12} {'Simple Hash':<15} {'Simple % 101':<15} {'Good % 101':<15}\"\n",
    ")\n",
    "print(\"-\" * 65)\n",
    "for reg in test_regs:\n",
    "    simple = simple_hash(reg)\n",
    "    good = good_hash(reg)\n",
    "    print(f\"{reg:<12} {simple:<15} {simple % 101:<15} {good % 101:<15}\")\n",
    "\n",
    "print(\"\\n\" + \"=\" * 65)\n",
    "print(\"Anagram collision test:\")\n",
    "print(\"=\" * 65)\n",
    "print(\"\\nSimple hash (BAD - position doesn't matter):\")\n",
    "print(f\"  'ABC12D' -> {simple_hash('ABC12D')}\")\n",
    "print(f\"  'BAC12D' -> {simple_hash('BAC12D')}\")\n",
    "print(f\"  Same hash? {simple_hash('ABC12D') == simple_hash('BAC12D')} ✗ COLLISION!\")\n",
    "\n",
    "print(\"\\nPolynomial hash (GOOD - position matters):\")\n",
    "print(f\"  'ABC12D' -> {good_hash('ABC12D')}\")\n",
    "print(f\"  'BAC12D' -> {good_hash('BAC12D')}\")\n",
    "print(f\"  Same hash? {good_hash('ABC12D') == good_hash('BAC12D')} ✓ NO COLLISION!\")\n",
    "\n",
    "print(\"\\nAfter modulo 101:\")\n",
    "print(f\"  'ABC12D' % 101 = {good_hash('ABC12D') % 101}\")\n",
    "print(f\"  'BAC12D' % 101 = {good_hash('BAC12D') % 101}\")\n",
    "print(\n",
    "    f\"  Different buckets: {good_hash('ABC12D') % 101 != good_hash('BAC12D') % 101} ✓\"\n",
    ")"
   ]
  }
 ],
 "metadata": {
  "kernelspec": {
   "display_name": "Python (assignment2)",
   "language": "python",
   "name": "assignment2"
  },
  "language_info": {
   "codemirror_mode": {
    "name": "ipython",
    "version": 3
   },
   "file_extension": ".py",
   "mimetype": "text/x-python",
   "name": "python",
   "nbconvert_exporter": "python",
   "pygments_lexer": "ipython3",
   "version": "3.12.11"
  }
 },
 "nbformat": 4,
 "nbformat_minor": 2
}
