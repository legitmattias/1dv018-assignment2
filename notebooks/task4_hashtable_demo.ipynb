{
 "cells": [
  {
   "cell_type": "markdown",
   "metadata": {},
   "source": [
    "# Task 4: Hashtable with Separate Chaining"
   ]
  },
  {
   "cell_type": "code",
   "execution_count": null,
   "metadata": {},
   "outputs": [],
   "source": [
    "import sys\n",
    "\n",
    "sys.path.append('..')\n",
    "\n",
    "from ads import HashTableSC"
   ]
  },
  {
   "cell_type": "markdown",
   "metadata": {},
   "source": [
    "## Basic Operations"
   ]
  },
  {
   "cell_type": "code",
   "execution_count": null,
   "metadata": {},
   "outputs": [],
   "source": [
    "# Create hashtable and insert key-value pairs\n",
    "ht = HashTableSC[str, int]()\n",
    "\n",
    "# Insert some names with ages\n",
    "names = ['Liam', 'Olivia', 'Charlotte', 'Lucas', 'Mia']\n",
    "ages = [34, 28, 42, 19, 31]\n",
    "\n",
    "for name, age in zip(names, ages, strict=False):\n",
    "    ht.put(name, age)\n",
    "\n",
    "print(\"Size:\", len(ht))\n",
    "print(\"Contains 'Olivia':\", ht.contains('Olivia'))\n",
    "print(\"Contains 'Emma':\", ht.contains('Emma'))\n",
    "print(\"Get 'Olivia':\", ht.get('Olivia'))\n",
    "print(\"Get 'Emma':\", ht.get('Emma'))"
   ]
  },
  {
   "cell_type": "markdown",
   "metadata": {},
   "source": [
    "## Update Existing Key"
   ]
  },
  {
   "cell_type": "code",
   "execution_count": null,
   "metadata": {},
   "outputs": [],
   "source": [
    "# Update Olivia's age\n",
    "print(\"Before update:\", ht.get('Olivia'))\n",
    "ht.put('Olivia', 35)\n",
    "print(\"After update:\", ht.get('Olivia'))\n",
    "print(\"Size (should be same):\", len(ht))"
   ]
  },
  {
   "cell_type": "markdown",
   "metadata": {},
   "source": [
    "## Remove Operation"
   ]
  },
  {
   "cell_type": "code",
   "execution_count": null,
   "metadata": {},
   "outputs": [],
   "source": [
    "print(\"Remove 'Lucas':\", ht.remove('Lucas'))\n",
    "print(\"Size after removal:\", len(ht))\n",
    "print(\"Contains 'Lucas':\", ht.contains('Lucas'))\n",
    "print(\"Remove 'Emma' (doesn't exist):\", ht.remove('Emma'))"
   ]
  },
  {
   "cell_type": "markdown",
   "metadata": {},
   "source": [
    "## Keys and Values"
   ]
  },
  {
   "cell_type": "code",
   "execution_count": null,
   "metadata": {},
   "outputs": [],
   "source": [
    "print(\"All keys:\", ht.keys())\n",
    "print(\"All values:\", ht.values())"
   ]
  },
  {
   "cell_type": "markdown",
   "metadata": {},
   "source": [
    "## Collision Testing\n",
    "\n",
    "Test with integers to observe collision handling"
   ]
  },
  {
   "cell_type": "code",
   "execution_count": null,
   "metadata": {},
   "outputs": [],
   "source": [
    "import random\n",
    "\n",
    "# Create small table to force collisions\n",
    "ht_int = HashTableSC[int, str](m=5)\n",
    "\n",
    "# Insert 10 random numbers\n",
    "random.seed(42)\n",
    "for _i in range(10):\n",
    "    key = random.randint(1, 100)\n",
    "    ht_int.put(key, f\"value_{key}\")\n",
    "\n",
    "print(\"Inserted 10 items into table of size 5\")\n",
    "print(\"Total items:\", len(ht_int))\n",
    "print(\"All keys:\", sorted(ht_int.keys()))\n",
    "print(\"\\nNote: Multiple items hash to same buckets (collisions handled via chaining)\")"
   ]
  },
  {
   "cell_type": "markdown",
   "metadata": {},
   "source": [
    "## Performance with Larger Dataset"
   ]
  },
  {
   "cell_type": "code",
   "execution_count": null,
   "metadata": {},
   "outputs": [],
   "source": [
    "# Test with 200 random integers, table size 31\n",
    "ht_large = HashTableSC[int, int](m=31)\n",
    "\n",
    "random.seed(42)\n",
    "for _i in range(200):\n",
    "    key = random.randint(1, 100_000)\n",
    "    ht_large.put(key, key * 2)\n",
    "\n",
    "print(\"Inserted 200 items into table of size 31\")\n",
    "print(\"Total items:\", len(ht_large))\n",
    "print(\"Average items per bucket:\", len(ht_large) / ht_large.sz)"
   ]
  },
  {
   "cell_type": "markdown",
   "metadata": {},
   "source": [
    "## Bucket Distribution Analysis"
   ]
  },
  {
   "cell_type": "code",
   "execution_count": null,
   "metadata": {},
   "outputs": [],
   "source": [
    "import matplotlib.pyplot as plt\n",
    "\n",
    "# Analyze chain lengths\n",
    "chain_lengths = [ht_large._len_chain(bucket) for bucket in ht_large.table]\n",
    "\n",
    "print(\"Chain length statistics:\")\n",
    "print(f\"  Min: {min(chain_lengths)}\")\n",
    "print(f\"  Max: {max(chain_lengths)}\")\n",
    "print(f\"  Avg: {sum(chain_lengths) / len(chain_lengths):.2f}\")\n",
    "print(f\"  Empty buckets: {chain_lengths.count(0)}\")\n",
    "\n",
    "# Show distribution\n",
    "\n",
    "plt.figure(figsize=(10, 5))\n",
    "plt.bar(\n",
    "    range(len(chain_lengths)),\n",
    "    chain_lengths,\n",
    "    color='skyblue',\n",
    "    edgecolor='black',\n",
    ")\n",
    "plt.xlabel('Bucket Index')\n",
    "plt.ylabel('Chain Length')\n",
    "title = f'Hashtable Chain Length Distribution (n={len(ht_large)}, m={ht_large.sz})'\n",
    "plt.title(title)\n",
    "plt.axhline(\n",
    "    y=len(ht_large) / ht_large.sz,\n",
    "    color='r',\n",
    "    linestyle='--',\n",
    "    label='Expected (n/m)',\n",
    ")\n",
    "plt.legend()\n",
    "plt.grid(axis='y', alpha=0.3)\n",
    "plt.tight_layout()\n",
    "plt.show()"
   ]
  },
  {
   "cell_type": "markdown",
   "metadata": {},
   "source": [
    "## Custom Object Keys"
   ]
  },
  {
   "cell_type": "code",
   "execution_count": null,
   "metadata": {},
   "outputs": [],
   "source": [
    "from dataclasses import dataclass\n",
    "\n",
    "\n",
    "@dataclass(frozen=True)  # frozen makes it hashable\n",
    "class Person:\n",
    "    name: str\n",
    "    age: int\n",
    "\n",
    "# Create hashtable with Person keys\n",
    "ht_person = HashTableSC[Person, str]()\n",
    "\n",
    "p1 = Person(\"Alice\", 30)\n",
    "p2 = Person(\"Bob\", 25)\n",
    "p3 = Person(\"Charlie\", 35)\n",
    "\n",
    "ht_person.put(p1, \"Engineer\")\n",
    "ht_person.put(p2, \"Designer\")\n",
    "ht_person.put(p3, \"Manager\")\n",
    "\n",
    "print(\"Get Alice:\", ht_person.get(p1))\n",
    "print(\"Get Bob:\", ht_person.get(p2))\n",
    "print(\"\\nNote: Works with any hashable Python object!\")"
   ]
  },
  {
   "cell_type": "markdown",
   "metadata": {},
   "source": [
    "## Empty Table Operations"
   ]
  },
  {
   "cell_type": "code",
   "execution_count": null,
   "metadata": {},
   "outputs": [],
   "source": [
    "ht_empty = HashTableSC[str, int]()\n",
    "\n",
    "print(\"Is empty:\", ht_empty.is_empty())\n",
    "print(\"Size:\", len(ht_empty))\n",
    "print(\"Get from empty:\", ht_empty.get('test'))\n",
    "print(\"Contains in empty:\", ht_empty.contains('test'))\n",
    "print(\"Remove from empty:\", ht_empty.remove('test'))"
   ]
  }
 ],
 "metadata": {
  "kernelspec": {
   "display_name": "Python (assignment2)",
   "language": "python",
   "name": "assignment2"
  },
  "language_info": {
   "codemirror_mode": {
    "name": "ipython",
    "version": 3
   },
   "file_extension": ".py",
   "mimetype": "text/x-python",
   "name": "python",
   "nbconvert_exporter": "python",
   "pygments_lexer": "ipython3",
   "version": "3.12.11"
  }
 },
 "nbformat": 4,
 "nbformat_minor": 2
}
