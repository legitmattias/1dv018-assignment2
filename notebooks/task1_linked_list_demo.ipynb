{
 "cells": [
  {
   "cell_type": "markdown",
   "metadata": {},
   "source": [
    "# Task 1: Linked List"
   ]
  },
  {
   "cell_type": "code",
   "execution_count": null,
   "metadata": {},
   "outputs": [],
   "source": [
    "import sys\n",
    "\n",
    "sys.path.append(\"..\")\n",
    "\n",
    "from ads import LinkedList"
   ]
  },
  {
   "cell_type": "markdown",
   "metadata": {},
   "source": [
    "## Basic Operations"
   ]
  },
  {
   "cell_type": "code",
   "execution_count": null,
   "metadata": {},
   "outputs": [],
   "source": [
    "# Create list and check if empty\n",
    "ll = LinkedList[int]()\n",
    "print(\"Empty:\", ll.empty())\n",
    "print(\"Count:\", ll.count())\n",
    "\n",
    "# Append elements\n",
    "ll.append(10)\n",
    "ll.append(20)\n",
    "ll.append(30)\n",
    "print(\"\\nAfter appending 10, 20, 30:\")\n",
    "print(\"Elements:\", list(ll))\n",
    "print(\"Count:\", ll.count())\n",
    "\n",
    "# Delete element\n",
    "ll.delete(20)\n",
    "print(\"\\nAfter deleting 20:\")\n",
    "print(\"Elements:\", list(ll))\n",
    "\n",
    "# Iterate\n",
    "print(\"\\nIterating:\")\n",
    "for val in ll:\n",
    "    print(\"-\", val)"
   ]
  },
  {
   "cell_type": "markdown",
   "metadata": {},
   "source": [
    "## Error Handling"
   ]
  },
  {
   "cell_type": "code",
   "execution_count": null,
   "metadata": {},
   "outputs": [],
   "source": [
    "# Try to delete non-existent element\n",
    "try:\n",
    "    ll.delete(99)\n",
    "except ValueError as e:\n",
    "    print(\"Error:\", e)"
   ]
  }
 ],
 "metadata": {
  "kernelspec": {
   "display_name": "Python (assignment2)",
   "language": "python",
   "name": "assignment2"
  },
  "language_info": {
   "codemirror_mode": {
    "name": "ipython",
    "version": 3
   },
   "file_extension": ".py",
   "mimetype": "text/x-python",
   "name": "python",
   "nbconvert_exporter": "python",
   "pygments_lexer": "ipython3",
   "version": "3.12.11"
  }
 },
 "nbformat": 4,
 "nbformat_minor": 4
}
