{
 "cells": [
  {
   "cell_type": "markdown",
   "metadata": {},
   "source": [
    "# Task 3: Binary Search Tree"
   ]
  },
  {
   "cell_type": "code",
   "execution_count": null,
   "metadata": {},
   "outputs": [],
   "source": [
    "import sys\n",
    "\n",
    "sys.path.append('..')\n",
    "\n",
    "from ads import BST"
   ]
  },
  {
   "cell_type": "markdown",
   "metadata": {},
   "source": [
    "## Basic Operations"
   ]
  },
  {
   "cell_type": "code",
   "execution_count": null,
   "metadata": {},
   "outputs": [],
   "source": [
    "# Create tree and add elements\n",
    "bst = BST[int]()\n",
    "for val in [5, 3, 7, 1, 4, 6, 9]:\n",
    "    bst.add(val)\n",
    "\n",
    "print(\"Size:\", bst.size())\n",
    "print(\"Height:\", bst.height())\n",
    "print(\"Contains 4:\", bst.contains(4))\n",
    "print(\"Contains 10:\", bst.contains(10))\n",
    "\n",
    "# Remove element\n",
    "bst.remove(3)\n",
    "print(\"\\nAfter removing 3:\")\n",
    "print(\"Size:\", bst.size())\n",
    "print(\"Contains 3:\", bst.contains(3))"
   ]
  },
  {
   "cell_type": "markdown",
   "metadata": {},
   "source": [
    "## Tree Traversals"
   ]
  },
  {
   "cell_type": "code",
   "execution_count": null,
   "metadata": {},
   "outputs": [],
   "source": [
    "# Create fresh tree\n",
    "bst = BST[int]()\n",
    "for val in [5, 3, 7, 1, 4, 6, 9]:\n",
    "    bst.add(val)\n",
    "\n",
    "print(\"In-order (sorted):\", list(bst.inorder_iter()))\n",
    "print(\"Pre-order:\", list(bst.preorder_iter()))\n",
    "print(\"Post-order:\", list(bst.postorder_iter()))"
   ]
  },
  {
   "cell_type": "markdown",
   "metadata": {},
   "source": [
    "## Remove K-th Largest"
   ]
  },
  {
   "cell_type": "code",
   "execution_count": null,
   "metadata": {},
   "outputs": [],
   "source": [
    "# Create tree with 1-10\n",
    "bst = BST[int]()\n",
    "for val in range(1, 11):\n",
    "    bst.add(val)\n",
    "\n",
    "print(\"Original:\", list(bst.inorder_iter()))\n",
    "bst.removeKthLargest(3)\n",
    "print(\"After removing 3rd largest (8):\", list(bst.inorder_iter()))"
   ]
  },
  {
   "cell_type": "markdown",
   "metadata": {},
   "source": [
    "## Degenerate Case: Sorted Input"
   ]
  },
  {
   "cell_type": "code",
   "execution_count": null,
   "metadata": {},
   "outputs": [],
   "source": [
    "# Insert sorted data -> degenerates to linked list\n",
    "bst_sorted = BST[int]()\n",
    "for val in range(1, 8):\n",
    "    bst_sorted.add(val)\n",
    "\n",
    "print(\"Sorted input BST:\")\n",
    "print(\"Size:\", bst_sorted.size())\n",
    "print(\"Height:\", bst_sorted.height())\n",
    "print(\"Note: height equals size (degenerate tree)\")\n",
    "\n",
    "# Compare with balanced insertion\n",
    "bst_balanced = BST[int]()\n",
    "for val in [4, 2, 6, 1, 3, 5, 7]:\n",
    "    bst_balanced.add(val)\n",
    "\n",
    "print(\"\\nBalanced input BST:\")\n",
    "print(\"Size:\", bst_balanced.size())\n",
    "print(\"Height:\", bst_balanced.height())\n",
    "print(\"Note: much shorter height with balanced insertion\")"
   ]
  },
  {
   "cell_type": "markdown",
   "metadata": {},
   "source": [
    "## Error Handling"
   ]
  },
  {
   "cell_type": "code",
   "execution_count": null,
   "metadata": {},
   "outputs": [],
   "source": [
    "bst = BST[int]()\n",
    "bst.add(5)\n",
    "\n",
    "# Try to remove non-existent element\n",
    "try:\n",
    "    bst.remove(10)\n",
    "except ValueError as e:\n",
    "    print(\"Error (remove):\", e)\n",
    "\n",
    "# Try invalid k for removeKthLargest\n",
    "try:\n",
    "    bst.removeKthLargest(5)\n",
    "except ValueError as e:\n",
    "    print(\"Error (removeKthLargest):\", e)"
   ]
  }
 ],
 "metadata": {
  "kernelspec": {
   "display_name": "Python (assignment2)",
   "language": "python",
   "name": "assignment2"
  },
  "language_info": {
   "codemirror_mode": {
    "name": "ipython",
    "version": 3
   },
   "file_extension": ".py",
   "mimetype": "text/x-python",
   "name": "python",
   "nbconvert_exporter": "python",
   "pygments_lexer": "ipython3",
   "version": "3.12.11"
  }
 },
 "nbformat": 4,
 "nbformat_minor": 2
}
